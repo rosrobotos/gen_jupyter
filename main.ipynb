{
 "cells": [
  {
   "cell_type": "code",
   "execution_count": null,
   "id": "2da704e4-c079-450a-a244-e3ddfdaf09f5",
   "metadata": {},
   "outputs": [],
   "source": [
    "\"\"\"\n",
    "I'm trying build genetic algorithm again....\n",
    "\"\"\"\n",
    "\n",
    "__version__ = 0.21\n",
    "__author__ = 'github.com/rosrobots'"
   ]
  },
  {
   "cell_type": "code",
   "execution_count": null,
   "id": "f8f75941-1021-4ffc-8559-e10da57dd58b",
   "metadata": {},
   "outputs": [],
   "source": [
    "import genlib\n",
    "import random as rnd\n",
    "import folium"
   ]
  },
  {
   "cell_type": "code",
   "execution_count": null,
   "id": "5d246a19-2f83-4019-a232-c9ab5e623a94",
   "metadata": {},
   "outputs": [],
   "source": [
    "GENOM_SIZE = 10\n",
    "GENERATION_SIZE = 10\n",
    "GENERATIONS_COUNT = 10\n",
    "MUTATION_CHANCE = 0.1"
   ]
  },
  {
   "cell_type": "code",
   "execution_count": null,
   "id": "c2be39d2-db23-4a20-9866-7a83b0a930bd",
   "metadata": {},
   "outputs": [
    {
     "data": {
      "text/html": [
       "<div>\n",
       "<style scoped>\n",
       "    .dataframe tbody tr th:only-of-type {\n",
       "        vertical-align: middle;\n",
       "    }\n",
       "\n",
       "    .dataframe tbody tr th {\n",
       "        vertical-align: top;\n",
       "    }\n",
       "\n",
       "    .dataframe thead th {\n",
       "        text-align: right;\n",
       "    }\n",
       "</style>\n",
       "<table border=\"1\" class=\"dataframe\">\n",
       "  <thead>\n",
       "    <tr style=\"text-align: right;\">\n",
       "      <th></th>\n",
       "      <th>0</th>\n",
       "      <th>1</th>\n",
       "      <th>2</th>\n",
       "      <th>3</th>\n",
       "      <th>4</th>\n",
       "      <th>5</th>\n",
       "      <th>6</th>\n",
       "      <th>7</th>\n",
       "      <th>8</th>\n",
       "      <th>9</th>\n",
       "      <th>quality</th>\n",
       "    </tr>\n",
       "  </thead>\n",
       "  <tbody>\n",
       "    <tr>\n",
       "      <th>1th</th>\n",
       "      <td>0</td>\n",
       "      <td>1</td>\n",
       "      <td>0</td>\n",
       "      <td>0</td>\n",
       "      <td>0</td>\n",
       "      <td>1</td>\n",
       "      <td>0</td>\n",
       "      <td>0</td>\n",
       "      <td>0</td>\n",
       "      <td>0</td>\n",
       "      <td>2</td>\n",
       "    </tr>\n",
       "    <tr>\n",
       "      <th>2th</th>\n",
       "      <td>0</td>\n",
       "      <td>0</td>\n",
       "      <td>1</td>\n",
       "      <td>1</td>\n",
       "      <td>1</td>\n",
       "      <td>1</td>\n",
       "      <td>1</td>\n",
       "      <td>0</td>\n",
       "      <td>1</td>\n",
       "      <td>0</td>\n",
       "      <td>6</td>\n",
       "    </tr>\n",
       "    <tr>\n",
       "      <th>3th</th>\n",
       "      <td>1</td>\n",
       "      <td>1</td>\n",
       "      <td>1</td>\n",
       "      <td>1</td>\n",
       "      <td>0</td>\n",
       "      <td>1</td>\n",
       "      <td>1</td>\n",
       "      <td>1</td>\n",
       "      <td>1</td>\n",
       "      <td>1</td>\n",
       "      <td>9</td>\n",
       "    </tr>\n",
       "  </tbody>\n",
       "</table>\n",
       "</div>"
      ],
      "text/plain": [
       "     0  1  2  3  4  5  6  7  8  9  quality\n",
       "1th  0  1  0  0  0  1  0  0  0  0        2\n",
       "2th  0  0  1  1  1  1  1  0  1  0        6\n",
       "3th  1  1  1  1  0  1  1  1  1  1        9"
      ]
     },
     "execution_count": 4,
     "metadata": {},
     "output_type": "execute_result"
    }
   ],
   "source": [
    "first_generation = genlib.create_generation(generation_size=GENERATION_SIZE,\n",
    "                                            gen_length=GENOM_SIZE)\n",
    "first_generation.head(3)"
   ]
  },
  {
   "cell_type": "code",
   "execution_count": null,
   "id": "17f7b587-89c2-4222-b363-eb7eeff1c9bc",
   "metadata": {},
   "outputs": [
    {
     "name": "stdout",
     "output_type": "stream",
     "text": [
      "not mutation # 1 quality = 48\n",
      "not mutation # 2 quality = 48\n",
      "not mutation # 3 quality = 48\n",
      "not mutation # 4 quality = 48\n",
      "not mutation # 5 quality = 48\n",
      "not mutation # 6 quality = 48\n",
      "not mutation # 7 quality = 48\n",
      "not mutation # 8 quality = 48\n",
      "not mutation # 9 quality = 48\n",
      "not mutation # 10 quality = 48\n"
     ]
    }
   ],
   "source": [
    "new_generation = first_generation\n",
    "for k  in range(GENERATIONS_COUNT):\n",
    "    if  rnd.random() < MUTATION_CHANCE:\n",
    "        new_generation = genlib.almost_generation(new_generation)\n",
    "        print('mutation #',k+1, 'quality =', sum(new_generation.quality))\n",
    "    else:\n",
    "        print('not mutation #',k+1, 'quality =', sum(new_generation.quality))"
   ]
  },
  {
   "cell_type": "markdown",
   "id": "aa9445a5-6fe5-4687-ad60-4f1db81c3c6d",
   "metadata": {},
   "source": [
    "### move to gen_jupyter repo"
   ]
  }
 ],
 "metadata": {
  "kernelspec": {
   "display_name": "Python 3 (ipykernel)",
   "language": "python",
   "name": "python3"
  },
  "language_info": {
   "codemirror_mode": {
    "name": "ipython",
    "version": 3
   },
   "file_extension": ".py",
   "mimetype": "text/x-python",
   "name": "python",
   "nbconvert_exporter": "python",
   "pygments_lexer": "ipython3",
   "version": "3.9.6"
  }
 },
 "nbformat": 4,
 "nbformat_minor": 5
}
